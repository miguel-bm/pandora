{
 "cells": [
  {
   "cell_type": "markdown",
   "metadata": {},
   "source": [
    "# Process Deforestation Data from Hansen et al.\n",
    "\n",
    "In this notebook we will process the tree cover and deforestation data from Hansen et al. This map data is divided into 504 granules of 10x10 degrees, spanning from 60 degrees South to 80 degrees North"
   ]
  },
  {
   "cell_type": "code",
   "execution_count": 4,
   "metadata": {},
   "outputs": [],
   "source": [
    "import numpy as np\n",
    "import rasterio\n",
    "import PIL\n",
    "from PIL import Image\n",
    "from pathlib import Path\n",
    "import pickle\n",
    "import json\n",
    "import multiprocessing\n",
    "\n",
    "import matplotlib.pyplot as plt\n",
    "%matplotlib inline"
   ]
  },
  {
   "cell_type": "code",
   "execution_count": 5,
   "metadata": {},
   "outputs": [],
   "source": [
    "Image.MAX_IMAGE_PIXELS = 2000000000  # Increase PIL image load limit"
   ]
  },
  {
   "cell_type": "code",
   "execution_count": 13,
   "metadata": {},
   "outputs": [
    {
     "name": "stdout",
     "output_type": "stream",
     "text": [
      "(420, 1080)\n",
      "Each pixel will have a side of 37.065 km at the ecuator.\n",
      "Each granule will have 30 pixels to a side.\n"
     ]
    }
   ],
   "source": [
    "longitude_range = (-180, 180)\n",
    "latitude_range = (-60, 80)\n",
    "\n",
    "pixels_per_degree = 3\n",
    "\n",
    "longitude_size = (longitude_range[1] - longitude_range[0]) * pixels_per_degree\n",
    "latitude_size = (latitude_range[1] - latitude_range[0]) * pixels_per_degree\n",
    "granule_size = longitude_size / 36\n",
    "\n",
    "km_to_px_EC = 2 * np.pi * 6371 / 360 / pixels_per_degree\n",
    "\n",
    "img_common_size = (latitude_size, longitude_size)\n",
    "print(img_common_size)\n",
    "print(f\"Each pixel will have a side of {km_to_px_EC:.3f} km at the ecuator.\")\n",
    "print(f\"Each granule will have {granule_size:.0f} pixels to a side.\")"
   ]
  },
  {
   "cell_type": "code",
   "execution_count": 18,
   "metadata": {},
   "outputs": [],
   "source": [
    "def granule_from_tif(tif_location, granule_size):\n",
    "    with rasterio.open(tif_location) as dataset_reader:\n",
    "        # Upscale factor for achieving appropriate longitude dimension\n",
    "        upscale_factor = 1/(dataset_reader.width / granule_size)\n",
    "        # Downscale the dataset. Avg scaling to retain integer info\n",
    "        array = dataset_reader.read(\n",
    "            out_shape=(\n",
    "                dataset_reader.count,\n",
    "                int(dataset_reader.height * upscale_factor),\n",
    "                int(dataset_reader.width * upscale_factor)\n",
    "            ),\n",
    "            resampling=rasterio.enums.Resampling.average\n",
    "        ).squeeze()\n",
    "    \n",
    "    return array"
   ]
  },
  {
   "cell_type": "code",
   "execution_count": 19,
   "metadata": {},
   "outputs": [
    {
     "data": {
      "text/plain": [
       "(30, 30)"
      ]
     },
     "execution_count": 19,
     "metadata": {},
     "output_type": "execute_result"
    }
   ],
   "source": [
    "data_folder = Path(\"../data/raw/hansen\")\n",
    "filename=\"Hansen_GFC-2018-v1.6_treecover2000_50N_010W.tif\"\n",
    "granule = granule_from_tif(data_folder/filename, granule_size)\n",
    "granule.shape"
   ]
  },
  {
   "cell_type": "code",
   "execution_count": 20,
   "metadata": {},
   "outputs": [
    {
     "data": {
      "text/plain": [
       "array([[ 0,  0,  0,  0,  0,  0,  0,  0,  0,  0,  0,  0,  0,  0,  0,  0,\n",
       "         0,  0,  0,  0,  0,  0,  0,  0,  1,  1,  0,  0,  0,  0],\n",
       "       [ 0,  0,  0,  0,  0,  0,  0,  0,  0,  0,  0,  0,  0,  0,  0,  0,\n",
       "         0,  0,  0,  0,  0,  0,  1,  0,  5, 12,  1,  0,  0,  0],\n",
       "       [ 0,  0,  0,  0,  0,  0,  0,  0,  0,  0,  0,  0,  0,  0,  0,  0,\n",
       "         0,  0,  0,  0,  0,  0,  0,  1,  0,  7,  5,  7,  5,  5],\n",
       "       [ 0,  0,  0,  0,  0,  0,  0,  0,  0,  0,  0,  0,  0,  0,  0,  0,\n",
       "         0,  0,  1,  6,  6,  1,  0,  0,  0,  5, 10, 11, 13,  8],\n",
       "       [ 0,  0,  0,  0,  0,  0,  0,  0,  0,  0,  0,  0,  0,  0,  0,  2,\n",
       "         6, 10, 19, 21, 20, 13,  9, 10, 10,  7,  7,  7, 11, 18],\n",
       "       [ 0,  0,  0,  0,  0,  0,  0,  0,  0,  0,  0,  0,  0,  0,  0,  0,\n",
       "         7, 16, 13, 17, 21,  9, 17, 16,  7, 12,  6, 11,  9, 12],\n",
       "       [ 0,  0,  0,  0,  0,  0,  0,  0,  0,  0,  0,  0,  0,  0,  0,  0,\n",
       "         1,  7,  7, 14, 20, 14, 19, 20, 12,  8, 11,  6,  7, 16],\n",
       "       [ 0,  0,  0,  0,  0,  0,  0,  0,  0,  0,  0,  0,  0,  0,  0,  0,\n",
       "         0,  0,  0,  0,  3,  4,  9, 19, 13,  9,  6,  7, 14, 24],\n",
       "       [ 0,  0,  0,  0,  0,  0,  0,  0,  0,  0,  0,  0,  0,  0,  0,  0,\n",
       "         0,  0,  0,  0,  1,  0,  1,  3, 10, 11,  7,  6,  8, 16],\n",
       "       [ 0,  0,  0,  0,  0,  0,  0,  0,  0,  0,  0,  0,  0,  0,  0,  0,\n",
       "         0,  0,  0,  0,  0,  0,  1,  2,  4,  6,  7,  6,  6, 10],\n",
       "       [ 0,  0,  0,  0,  0,  0,  0,  0,  0,  0,  0,  0,  0,  0,  0,  0,\n",
       "         0,  0,  0,  0,  0,  0,  0,  0,  3,  8,  6, 10,  9, 12],\n",
       "       [ 0,  0,  0,  0,  0,  0,  0,  0,  0,  0,  0,  0,  0,  0,  0,  0,\n",
       "         0,  0,  0,  0,  0,  0,  0,  0,  0,  1,  1,  8, 13, 11],\n",
       "       [ 0,  0,  0,  0,  0,  0,  0,  0,  0,  0,  0,  0,  0,  0,  0,  0,\n",
       "         0,  0,  0,  0,  0,  0,  0,  0,  0,  1, 10, 12, 17,  9],\n",
       "       [ 0,  0,  0,  0,  0,  0,  0,  0,  0,  0,  0,  0,  0,  0,  0,  0,\n",
       "         0,  0,  0,  0,  0,  0,  0,  0,  0,  0, 11,  9, 14, 11],\n",
       "       [ 0,  0,  0,  0,  0,  0,  0,  0,  0,  0,  0,  0,  0,  0,  0,  0,\n",
       "         0,  0,  0,  0,  0,  0,  0,  0,  0,  0, 22, 28, 22, 33],\n",
       "       [ 0,  0,  0,  0,  0,  0,  0,  0,  0,  0,  0,  0,  0,  0,  0,  0,\n",
       "         0,  0,  0,  0,  0,  0,  0,  0,  0,  0, 29, 43, 18, 15],\n",
       "       [ 0,  0,  0,  0,  0,  0,  0,  0,  0,  0,  0,  0,  0,  0,  0,  0,\n",
       "         0,  0,  0,  0,  0,  0,  0,  0,  0,  0, 33, 52, 54, 33],\n",
       "       [ 0,  0,  0,  0,  0,  0,  0,  0,  0,  0,  0,  0,  0,  0,  0,  0,\n",
       "         0,  0,  0,  0,  0,  0,  0,  0,  0,  0, 55, 56, 54, 53],\n",
       "       [ 0,  0,  0,  0,  0,  2, 11,  6,  0,  0,  0,  0,  0,  0,  0,  0,\n",
       "         0,  0,  0,  0,  0,  0,  0,  0,  0, 12, 57, 41, 34, 22],\n",
       "       [ 0,  0,  0,  0,  1, 33, 51, 42, 31, 28, 28, 32, 20, 25, 21, 13,\n",
       "         7,  7,  9, 16,  5, 15,  7,  0,  4, 27, 31, 25, 19, 16],\n",
       "       [ 0,  0, 18, 35, 35, 42, 42, 33, 53, 52, 45, 44, 52, 54, 54, 38,\n",
       "        52, 48, 44, 42, 51, 61, 68, 58, 71, 58, 40, 46, 44, 35],\n",
       "       [ 0,  0, 14, 43, 42, 39, 35, 31, 44, 54, 47, 34, 26, 36, 38, 37,\n",
       "        24, 25, 28, 28, 34, 29, 41, 61, 32, 41, 57, 53, 33, 24],\n",
       "       [ 0,  0,  1, 18, 47, 47, 42, 40, 51, 38, 38, 22,  5,  3,  6, 12,\n",
       "         8,  2,  3, 10, 16, 15, 17,  5,  1, 13, 24, 40, 39, 51],\n",
       "       [ 0,  0,  0, 20, 43, 44, 36, 41, 36, 41, 45, 31, 10,  3,  0,  0,\n",
       "         2,  2,  2, 23, 57, 51, 45, 20,  5,  2,  5, 20, 11, 21],\n",
       "       [ 0,  0,  0, 21, 38, 32, 29, 18, 24, 29, 32, 27, 10,  2,  1,  2,\n",
       "         3,  1,  3, 11, 31, 45, 14, 11, 16,  4,  3,  6,  5,  1],\n",
       "       [ 0,  0,  0,  8, 22, 34, 35, 17,  9, 14, 11,  7,  3,  3,  2,  6,\n",
       "        10,  4,  5,  4,  4, 10, 14,  2, 11, 10,  2,  2,  1,  1],\n",
       "       [ 0,  0,  0,  1, 21, 27, 27, 16,  7, 14,  4,  1,  3,  1,  0,  3,\n",
       "        11,  8, 14, 36, 30,  9,  4,  4,  6, 11, 15,  1,  2,  1],\n",
       "       [ 0,  0,  0,  2, 39, 51, 35, 19,  7,  6,  4,  1,  3,  3,  1,  3,\n",
       "         5, 23, 31, 15, 11,  9, 15, 31,  9,  3,  6,  7, 10, 15],\n",
       "       [ 0,  0,  0,  9, 30, 50, 31, 29, 14, 10, 25, 51, 29,  9, 17, 16,\n",
       "        20, 16,  8,  2,  4, 10, 13, 32, 38, 13,  2, 13, 27, 17],\n",
       "       [ 0,  0,  0, 17, 33, 56, 55, 20, 24, 31, 30, 16, 32, 24, 22, 23,\n",
       "        13,  2,  1,  2,  1,  4,  4, 17, 30, 21, 12, 15, 33, 16]],\n",
       "      dtype=uint8)"
      ]
     },
     "execution_count": 20,
     "metadata": {},
     "output_type": "execute_result"
    }
   ],
   "source": [
    "granule"
   ]
  },
  {
   "cell_type": "code",
   "execution_count": null,
   "metadata": {},
   "outputs": [],
   "source": []
  }
 ],
 "metadata": {
  "kernelspec": {
   "display_name": "Python 3",
   "language": "python",
   "name": "python3"
  },
  "language_info": {
   "codemirror_mode": {
    "name": "ipython",
    "version": 3
   },
   "file_extension": ".py",
   "mimetype": "text/x-python",
   "name": "python",
   "nbconvert_exporter": "python",
   "pygments_lexer": "ipython3",
   "version": "3.7.4"
  }
 },
 "nbformat": 4,
 "nbformat_minor": 4
}
