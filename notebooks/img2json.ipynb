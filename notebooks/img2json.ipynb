{
 "cells": [
  {
   "cell_type": "code",
   "execution_count": 1,
   "metadata": {},
   "outputs": [],
   "source": [
    "import numpy as np\n",
    "import pandas as pd\n",
    "import yaml\n",
    "import requests\n",
    "import urllib\n",
    "import imageio\n",
    "from pathlib import Path\n",
    "from skimage.transform import resize\n",
    "import matplotlib.pyplot as plt\n",
    "import PIL\n",
    "from PIL import ImageEnhance\n",
    "%matplotlib inline"
   ]
  },
  {
   "cell_type": "code",
   "execution_count": 2,
   "metadata": {},
   "outputs": [],
   "source": [
    "PIL.Image.MAX_IMAGE_PIXELS = 2000000000"
   ]
  },
  {
   "cell_type": "code",
   "execution_count": 3,
   "metadata": {},
   "outputs": [],
   "source": [
    "class Lat():\n",
    "    def __init__(self, a):\n",
    "        assert type(a) == str\n",
    "        assert a in ['N', 'S']\n",
    "        self.a = a\n",
    "        \n",
    "    def __mul__(self, other):\n",
    "        '''\n",
    "        Multiplication override\n",
    "        to find the correct direction\n",
    "        '''\n",
    "        return other if self.a=='N' else -other\n",
    "    \n",
    "    def __str__(self):\n",
    "        return self.a\n",
    "    \n",
    "    def __repr__(self):\n",
    "        return self.a\n",
    "    \n",
    "class Lon():\n",
    "    def __init__(self, a):\n",
    "        assert type(a) == str\n",
    "        assert a in ['W', 'E']\n",
    "        self.a = a\n",
    "        \n",
    "    def __mul__(self, other):\n",
    "        '''\n",
    "        Multiplication override\n",
    "        to find the correct direction\n",
    "        '''\n",
    "        return other if self.a=='E' else -other\n",
    "    \n",
    "    def __str__(self):\n",
    "        return self.a\n",
    "    \n",
    "    def __repr__(self):\n",
    "        return self.a"
   ]
  },
  {
   "cell_type": "code",
   "execution_count": 4,
   "metadata": {},
   "outputs": [],
   "source": [
    "df = pd.DataFrame(columns=['lon', 'lat', 'COUNT'])"
   ]
  },
  {
   "cell_type": "code",
   "execution_count": 28,
   "metadata": {},
   "outputs": [],
   "source": [
    "lat = '60'\n",
    "n_s = Lat('N')\n",
    "\n",
    "lon = '010'\n",
    "e_w = Lon('W')"
   ]
  },
  {
   "cell_type": "code",
   "execution_count": 29,
   "metadata": {},
   "outputs": [
    {
     "data": {
      "text/plain": [
       "(40000, 40000)"
      ]
     },
     "execution_count": 29,
     "metadata": {},
     "output_type": "execute_result"
    }
   ],
   "source": [
    "granule = PIL.Image.open(f\"../data/hansen/Hansen_GFC-2018-v1.6_treecover2000_{lat}{n_s}_{lon}{e_w}.tif\")\n",
    "granule.size"
   ]
  },
  {
   "cell_type": "code",
   "execution_count": 30,
   "metadata": {},
   "outputs": [],
   "source": [
    "granule_resized = granule.resize((4000, 4000), PIL.Image.ANTIALIAS)"
   ]
  },
  {
   "cell_type": "code",
   "execution_count": 31,
   "metadata": {},
   "outputs": [],
   "source": [
    "img = ImageEnhance.Brightness(granule_resized).enhance(255/100)"
   ]
  },
  {
   "cell_type": "code",
   "execution_count": 32,
   "metadata": {},
   "outputs": [],
   "source": [
    "pix = np.array(img.getdata()).reshape(img.size[0], img.size[1], 1)"
   ]
  },
  {
   "cell_type": "code",
   "execution_count": 33,
   "metadata": {},
   "outputs": [],
   "source": [
    "div_lat = 20\n",
    "div_lon = 20\n",
    "\n",
    "size_square_x = img.size[0]//div_lon\n",
    "size_square_y = img.size[1]//div_lat\n",
    "\n",
    "DEGREES_LAT = 10\n",
    "DEGREES_LON = 10\n",
    "\n",
    "delta_x = DEGREES_LAT / div_lat\n",
    "delta_y = DEGREES_LAT / div_lon"
   ]
  },
  {
   "cell_type": "code",
   "execution_count": 34,
   "metadata": {},
   "outputs": [],
   "source": [
    "count = np.zeros((div_lat, div_lon))"
   ]
  },
  {
   "cell_type": "code",
   "execution_count": 35,
   "metadata": {},
   "outputs": [],
   "source": [
    "for i in range(div_lat):\n",
    "    lat_ = float(lat) - n_s*i*delta_y\n",
    "    for j in range(div_lon):\n",
    "        lon_ = float(lon) + e_w*j*delta_x\n",
    "        \n",
    "        c = pix[i*size_square_y:(i+1)*size_square_y,\n",
    "                j*size_square_x:(j+1)*size_square_x].max()\n",
    "        \n",
    "        count[i, j] = c\n",
    "        \n",
    "        df = df.append({'lat': lat_,\n",
    "                        'lon': -lon_,\n",
    "                        'COUNT': c}, ignore_index=True)"
   ]
  },
  {
   "cell_type": "code",
   "execution_count": 36,
   "metadata": {},
   "outputs": [],
   "source": [
    "df.to_csv('../../../streamlit/data.csv')"
   ]
  },
  {
   "cell_type": "code",
   "execution_count": null,
   "metadata": {},
   "outputs": [],
   "source": []
  },
  {
   "cell_type": "code",
   "execution_count": 37,
   "metadata": {},
   "outputs": [
    {
     "data": {
      "text/plain": [
       "<matplotlib.image.AxesImage at 0x7f81c6ca5780>"
      ]
     },
     "execution_count": 37,
     "metadata": {},
     "output_type": "execute_result"
    },
    {
     "data": {
      "image/png": "[encoded data removed]",
      "text/plain": [
       "<Figure size 720x720 with 1 Axes>"
      ]
     },
     "metadata": {
      "needs_background": "light"
     },
     "output_type": "display_data"
    }
   ],
   "source": [
    "plt.figure(figsize=(10, 10))\n",
    "plt.imshow(count)"
   ]
  },
  {
   "cell_type": "code",
   "execution_count": null,
   "metadata": {},
   "outputs": [],
   "source": []
  }
 ],
 "metadata": {
  "kernelspec": {
   "display_name": "Environment (conda_pytorch_p36)",
   "language": "python",
   "name": "conda_pytorch_p36"
  },
  "language_info": {
   "codemirror_mode": {
    "name": "ipython",
    "version": 3
   },
   "file_extension": ".py",
   "mimetype": "text/x-python",
   "name": "python",
   "nbconvert_exporter": "python",
   "pygments_lexer": "ipython3",
   "version": "3.6.10"
  }
 },
 "nbformat": 4,
 "nbformat_minor": 4
}
