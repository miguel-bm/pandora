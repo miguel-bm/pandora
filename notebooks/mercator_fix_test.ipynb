{
 "cells": [
  {
   "cell_type": "markdown",
   "metadata": {},
   "source": [
    "# Mercator fix test\n",
    "\n",
    "In this notebook we will try to implement the addition of extra dummy points to the .json that goes into the mapping tool to correct the distortion created by the Mercator projection in the grid data."
   ]
  },
  {
   "cell_type": "code",
   "execution_count": 2,
   "metadata": {},
   "outputs": [],
   "source": [
    "import json\n",
    "import pickle\n",
    "import numpy as np\n",
    "from pathlib import Path"
   ]
  },
  {
   "cell_type": "code",
   "execution_count": 8,
   "metadata": {},
   "outputs": [],
   "source": [
    "def array_to_coords(array, round_to=3, lon_range=(-180, 180), lat_range=(-60, 80), threshold=0, normalize_by=1.):\n",
    "    norm = array/normalize_by\n",
    "    lats = np.arange(lat_range[1], lat_range[0], -(lat_range[1] - lat_range[0])/array.shape[0])\n",
    "    lons = np.arange(lon_range[0], lon_range[1],  (lon_range[1] - lon_range[0])/array.shape[1])\n",
    "    rows = list()\n",
    "    rows = [[round(float(lats[i]), round_to), \n",
    "             round(float(lons[j]), round_to), \n",
    "             round(float(norm[i, j]), round_to)]\n",
    "            for j in range(array.shape[1]) \n",
    "            for i in range(array.shape[0])\n",
    "            if array[i, j] > threshold]  # Do not store values below or equal to the threshold (e.g. zeroes)\n",
    "    return rows"
   ]
  },
  {
   "cell_type": "code",
   "execution_count": 16,
   "metadata": {},
   "outputs": [],
   "source": [
    "def array_to_json_extra(array, destination, value_name=\"value\", value_type=\"real\", \n",
    "        round_to=3, lon_range=(-180, 180), lat_range=(-60, 80), threshold=0, normalize_by=1.,\n",
    "        lat_extra_1=55, lat_extra_2=70,\n",
    "    ):\n",
    "    data = {}\n",
    "    fields = [\n",
    "        {\"name\": \"latitude\", \"format\": \"\", \"type\": \"real\"},\n",
    "        {\"name\": \"longitude\", \"format\": \"\", \"type\": \"real\"},\n",
    "        {\"name\": value_name, \"format\": \"\", \"type\": value_type},\n",
    "    ]\n",
    "    data[\"fields\"] = fields\n",
    "    rows = array_to_coords(array, \n",
    "        round_to=round_to, \n",
    "        lon_range=lon_range, \n",
    "        lat_range=lat_range, \n",
    "        threshold=threshold,\n",
    "        normalize_by=normalize_by,\n",
    "    )\n",
    "    \n",
    "    lat_space = (lat_range[1] - lat_range[0]) / array.shape[0]\n",
    "    extra_rows_1 = [[round(float(row[0] - lat_space/2), round_to), row[1], row[2]]\n",
    "                  for row in rows if (abs(row[0]) >= lat_extra_1) and (abs(row[0]) < lat_extra_2)]\n",
    "    \n",
    "    extra_rows_2 = [[round(float(row[0] - lat_space/3), round_to), row[1], row[2]]\n",
    "                  for row in rows if (abs(row[0]) >= lat_extra_2)]\n",
    "    extra_rows_2 += [[round(float(row[0] - lat_space*2/3), round_to), row[1], row[2]]\n",
    "                  for row in rows if (abs(row[0]) >= lat_extra_2)]\n",
    "    \n",
    "    data[\"rows\"] = rows + extra_rows_1 + extra_rows_2\n",
    "    with open(destination, 'w') as file:\n",
    "        json.dump(data, file)"
   ]
  },
  {
   "cell_type": "code",
   "execution_count": 17,
   "metadata": {},
   "outputs": [],
   "source": [
    "data_pr = Path(\"../data/processed/\")"
   ]
  },
  {
   "cell_type": "code",
   "execution_count": 20,
   "metadata": {},
   "outputs": [],
   "source": [
    "def apply_fix(dataset):\n",
    "    with open(data_pr/f\"{dataset}/{dataset}.pickle\", \"rb\") as f:\n",
    "        array = pickle.load(f)\n",
    "    array_to_json_extra(array, data_pr/f\"{dataset}/{dataset}_mercfix.json\")"
   ]
  },
  {
   "cell_type": "code",
   "execution_count": 22,
   "metadata": {},
   "outputs": [],
   "source": [
    "datasets = [\"mammals\", \"cultivated\", \"urban\", \"floods\", \"deforestation\", \"pastures\", \"treecover\", \"population\"]\n",
    "for dataset in datasets:\n",
    "    apply_fix(dataset)"
   ]
  },
  {
   "cell_type": "code",
   "execution_count": null,
   "metadata": {},
   "outputs": [],
   "source": []
  }
 ],
 "metadata": {
  "kernelspec": {
   "display_name": "Python 3",
   "language": "python",
   "name": "python3"
  },
  "language_info": {
   "codemirror_mode": {
    "name": "ipython",
    "version": 3
   },
   "file_extension": ".py",
   "mimetype": "text/x-python",
   "name": "python",
   "nbconvert_exporter": "python",
   "pygments_lexer": "ipython3",
   "version": "3.7.4"
  }
 },
 "nbformat": 4,
 "nbformat_minor": 4
}
